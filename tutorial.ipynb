{
  "cells": [
    {
      "cell_type": "markdown",
      "metadata": {
        "id": "view-in-github",
        "colab_type": "text"
      },
      "source": [
        "<a href=\"https://colab.research.google.com/github/romiebanerjee/laplace/blob/master/tutorial.ipynb\" target=\"_parent\"><img src=\"https://colab.research.google.com/assets/colab-badge.svg\" alt=\"Open In Colab\"/></a>"
      ]
    },
    {
      "cell_type": "markdown",
      "id": "f0e7ae8c",
      "metadata": {
        "id": "f0e7ae8c"
      },
      "source": [
        "# Laplace-BNN inference with KFAC posterior and GLM predictive\n",
        "\n",
        "**Author**: Romie Banerjee\n",
        "<!-- **Last Updated**: `YYYY-MM-DD`   -->\n",
        "\n",
        "---\n",
        "\n",
        "## 1. Overview\n",
        "A tutorial on Laplace-BNN inference. Focus on calculating the *GLM predictive*. The posterior is calculated using KFAC.\n",
        "\n",
        "## 2. BNN\n",
        "A **Bayesian neural network (BNN)** is an infinite family of neural networks, parametrized as a map $f:X \\times \\Theta \\to Y$, where the spaces  $X$, $\\Theta$ and $Y$ are respectively the imput, model and output spaces. The mapping is coordinatized as $R^n \\times R^w \\to R^d$. The mapping $(x, \\theta) \\mapsto f(x, \\theta)$ expresses the evaluation of the model $\\theta$ at the input $x$. The family of models is equipped with a probability measure, the posterior. The final inference step estimates the predictive distribution in the output space.\n",
        "\n",
        "### BNN Inference\n",
        "- Given the model $\\Theta$ (space of NN weights) and prior distribution $P(\\Theta)$\n",
        "- training data $D$\n",
        "- The posterior distribution $P(\\Theta |D)$, estimated by approximations (monte carlo, variational infernce etc.).\n",
        "- The BNN predictive is the output distribution on $Y$, defined as the push-forward prob measure on $\\Theta$, via the map $f(x, -): \\Theta \\to Y$.\n",
        "\n",
        "```mermaid\n",
        "graph LR\n",
        "  A[model + prior] --> B[Data];\n",
        "  B --> C[BNN Posterior];\n",
        "  C --> D[BNN Predictive];\n",
        "```\n",
        "\n",
        "\n",
        "## 3. Laplace-BNN\n",
        "A **Laplace-BNN** is BNN where the posterior is replaced by a *Gaussian around the MAP* using Laplace approximation applied to the true model posterior. The MAP is a model point-estimate obtained through ERM.\n",
        "\n",
        "### Laplace-BNN Inference\n",
        "- $ P(\\Theta|D) \\sim N(\\theta_{MAP}, \\Sigma) $\n",
        "- The covariance $\\Sigma$ is inverse of the Loss Hessian, $\\left( \\frac{\\partial^2}{\\partial \\theta^2} Loss(\\theta)|_{\\theta_{MAP}} \\right)^{-1}$\n",
        "\n",
        "```mermaid\n",
        "graph LR\n",
        "  A[\"model (point-estimate)\"] --> C[Gaussian posterior:];\n",
        "  C --> D[Laplace-BNN Predictive];\n",
        "```\n",
        "\n",
        "### Laplace-BNN Inference with KFAC posterior\n",
        "\n",
        "- The Hessian matrix is replaced by the Generalized-Gauss-Newton approximation, i.e. the Fisher information matrix $I_{\\theta}(\\theta_{MAP}) := COV \\left( \\nabla_{\\theta}Loss |_{\\theta_{MAP}} \\right)$\n",
        "- $P(\\Theta|D) \\sim N(\\theta_{MAP}, I_{\\theta}(\\theta_{MAP})^{-1})$\n",
        "- The Fisher is further approximated by the **KFAC** matrix, a *block-diagonal* form (block per layer), where each block is in a *kronecker-factored*  form $I_{\\theta}(\\theta_{MAP})_{KFAC} =\n",
        "  \\begin{pmatrix}\n",
        "  Q_{(1)}\\otimes H_{(1)}&  &\\\\\n",
        "  & \\ddots & \\\\\n",
        "  && Q_{(L)} \\otimes H_{(L)}\n",
        "  \\end{pmatrix}$\n",
        "- The l-th block $Q_l\\otimes H_l$ is the Fisher for the l-th layer.\n",
        "- The KFAC posterior covariance $\\Sigma_{KFAC} =\n",
        "  \\begin{pmatrix}\n",
        "  Q_{(1)}^{-1}\\otimes H_{(1)}^{-1}&  &\\\\\n",
        "  & \\ddots & \\\\\n",
        "  && Q_{(L)}^{-1} \\otimes H_{(L)}^{-1}\n",
        "  \\end{pmatrix}$\n",
        "- Other variant of approximate Fisher include eKFAC and INF [3]\n",
        "\n",
        "```mermaid\n",
        "graph LR\n",
        "  A[\"model (point-estimate)\"] --> C[KFAC posterior];\n",
        "  C --> D[Laplace-BNN Predictive];\n",
        "```\n",
        "\n",
        "## 4. Laplace-BNN predictive estimators\n",
        "\n",
        "\n",
        "### Laplace-BNN predictive: GLM\n",
        "The **Generalized Linear Model (GLM)** is the linearization of the BNN $f: X \\times \\Theta \\to Y$ at $\\theta = \\theta_{MAP}$.\n",
        "- $f_{lin}(x, \\theta) = f(x, \\theta_{MAP}) + J(x)(\\theta - \\theta_{MAP})$\n",
        "- where $J(x)$ is the jacobian $\\frac{\\partial}{\\partial\\theta} f(x, \\theta)|_{\\theta = \\theta_{MAP}}$.\n",
        "- The GLM predictive is a Gaussian: $N(f_{MAP}(x), J(x)@\\Sigma @J(x)^T)$\n",
        "- where $\\Sigma$ is the Laplace posterior Gaussian (using GGN approximation $\\Sigma = I_{\\theta}(\\theta_{MAP})^{-1}$)\n",
        "- *NOTE*: Since the GLM predictive is a gaussian with mean $f_{MAP}(x)$, it can be read as the prediction uncertainty of the origina model $f_{MAP}$.\n",
        "- *NOTE*: In order to use GLM directy (i.e. using the closed form of the GLM covariance) one has to compute $J(x)$ for every $x$, this can be compute heavy when the output space is high-dimensional.\n",
        "\n",
        "```mermaid\n",
        "graph LR\n",
        "  A[\"Gaussian posterior\"] --> C[jacobian];\n",
        "  C --> D[GLM Predictive];\n",
        "```\n",
        "### Laplace-BNN predictive: MC-GLM\n",
        "Empirically estimate the GLM predictive: apply MCI to the GLM model\n",
        "- Input $x$\n",
        "- Sample weights $\\theta_1, \\ldots, \\theta_k \\sim N\\left( \\theta_{MAP}, I_{\\theta}(\\theta_{MAP})^{-1}\\right)$\n",
        "- Multiple Feed forwards $f_{lin}(x, \\theta_1), \\ldots, f_{lin}(x, \\theta_k)$\n",
        "- Compute the GLM predictive $P(y|x)$ statistics: empirical mean and covariance\n",
        "- The empirical mean, $\\bar{f}_{lin}(x) = MEAN\\left[ f_{lin}(x, \\theta_i)\\right] = f_{lin}(x, MEAN(\\theta_i)) = f_{MAP}(x) + J(x)(MEAN(\\theta_i) - \\theta_{MAP})$, converges to $f_{MAP}(x)$\n",
        "- The empirical covariance $\\frac{1}{k-1}\\sum_{i=1}^k \\left( f_{lin}(x, \\theta_i) - \\bar{f}_{lin}(x) \\right) @ \\left( f_{lin}(x, \\theta_i) - \\bar{f}_{lin}(x) \\right)^T$, converges to $J(x)@\\Sigma @J(x)^T$\n",
        "- Simplify the empirical covarinace further by $\\frac{1}{k-1}\\sum_{i=1}^k \\left( J(x)@(\\theta_i - \\theta_{MAP}) \\right) @ \\left( J(X)@(\\theta_i - \\theta_{MAP} \\right)^T$\n",
        "- Numerical differentiation: $J(x)@(\\theta_i - \\theta_{MAP}) \\sim \\frac{f(x, \\theta_{MAP} + h*\\eta_i) - f(x, \\theta_{MAP})}{h}$, where $h$ is a small scalar, $\\eta_i = \\theta_i - \\theta_{MAP}$\n",
        "```mermaid\n",
        "graph LR\n",
        "    B[Gaussian Posterior];\n",
        "    D@{ shape: procs, label: \"sample models from GLM\"};\n",
        "    B --> D;\n",
        "    D --> A[MC-GLM predictive];\n",
        "```\n",
        "\n",
        "### Laplace-BNN predictive: LR-GLM\n",
        "A **low-rank approximation** of the GLM predictive covariance $\\Sigma(x) = J(x)@\\Sigma @J(x)^T$ utilizing the sparsity of the eigenspectrum of the Fisher information matrix.\n",
        "\n",
        "- Input $x$\n",
        "- Choose $K$ Eigen-vectors (scaled by their eigenvalues) from the TopK  $ v_1, \\ldots, v_m, (K << w)$ from the high-end of the eigenspectrum of $I_{\\theta}(\\theta_{MAP})$\n",
        "- Multiple Feed forwards $f(x, v_1), \\ldots, f(x, v_m)$\n",
        "- $A(x) :=\n",
        "\\begin{pmatrix}\n",
        "| & & | \\\\\n",
        "D_{v_1}f & \\cdots & D_{v_n}f \\\\\n",
        "| &  & |\n",
        "\\end{pmatrix}\n",
        "\\in \\mathbb{R}^{d \\times K}$, where $D_{v}f = \\frac{f(x, \\theta_{MAP} + h*v) - f(x, \\theta_{MAP})}{h}$, $h$ is a small scalar\n",
        "- $\\Sigma(x)_{LR} = A(x)@A(x)^T$\n",
        "```mermaid\n",
        "graph LR\n",
        "    B[model Fisher]\n",
        "    D@{ shape: procs, label: \"Eigenvectors from inverse fisher \"}\n",
        "    B --> D\n",
        "    D --> A[LR-GLM predictive]\n",
        "```\n",
        "## 4. Additional Details\n",
        "\n",
        "### Sampling from the Gaussian with KFAC covariance\n",
        "- A sample from a gaussian $z \\sim N(\\mu, \\Sigma)$ can be obtained by first sampling $x \\sim N(0, I_n)$ from an identity-covariance zero-mean Gaussian, and appling the affine transformation $z= \\mu  + Chol(\\Sigma)@ x$.\n",
        "- For a KFAC Laplace-BNN the covariance of the form\n",
        "  $\\begin{pmatrix}\n",
        "  Q_{(1)}^{-1}\\otimes H_{(1)}^{-1}&  &\\\\\n",
        "  & \\ddots & \\\\\n",
        "  && Q_{(L)}^{-1} \\otimes H_{(L)}^{-1}\n",
        "  \\end{pmatrix}$\n",
        "- The Choleksy decomposes block-wise and commutes with inverses and kronecker products:\n",
        "  $Chol\\begin{pmatrix}\n",
        "  Q_{(1)}^{-1}\\otimes H_{(1)}^{-1}&  &\\\\\n",
        "  & \\ddots & \\\\\n",
        "  && Q_{(L)}^{-1} \\otimes H_{(L)}^{-1}\n",
        "  \\end{pmatrix}$ =\n",
        "$\\begin{pmatrix}\n",
        "Chol(Q_{(1)})^{-1}\\otimes Chol(H_{(1)})^{-1}& &\\\\\n",
        "& \\ddots & \\\\\n",
        "&& Chol(Q_{(L)})^{-1}\\otimes Chol(H_{(L)})^{-1}& &\\\\\n",
        "\\end{pmatrix}$\n",
        "- The samples care obtained layer-wise: $z_l = \\left( Ch(Q_{(1)})^{-1}\\otimes Ch(H_{(1)})^{-1} \\right)@ x_l$ where $x \\sim N(0, I_l)$\n",
        "\n",
        "### Computing the closed form GLM predictive\n",
        "In order to compute the GLM closed for, one needs to compute\n",
        "- The KFAC covariance matrix (independent of the input $x$)\n",
        "- The Jacobian $J(x)$\n",
        "- matrix product $J(x) @ \\Sigma @ J(x)^T$\n",
        "\n",
        "Given the block-wise kronecker-factored form of the KFAC $\\Sigma$, the jacobian must be expressed in a compatible format.\n"
      ]
    },
    {
      "cell_type": "code",
      "execution_count": 1,
      "id": "7947c83f",
      "metadata": {
        "colab": {
          "base_uri": "https://localhost:8080/"
        },
        "id": "7947c83f",
        "outputId": "96025ad4-b5aa-46f5-cf61-190961300532"
      },
      "outputs": [
        {
          "output_type": "stream",
          "name": "stdout",
          "text": [
            "Using device: cuda\n"
          ]
        }
      ],
      "source": [
        "import torch\n",
        "import torch.nn as nn\n",
        "import torch.optim as optim\n",
        "import torch.nn.functional as F\n",
        "from torchvision import datasets, transforms\n",
        "from torch.utils.data import DataLoader\n",
        "import matplotlib.pyplot as plt\n",
        "from torch.nn.functional import softmax\n",
        "from tqdm import tqdm\n",
        "import  os\n",
        "\n",
        "# Check if GPU is available\n",
        "device = torch.device(\"cuda\" if torch.cuda.is_available() else \"cpu\")\n",
        "print(f\"Using device: {device}\")\n"
      ]
    },
    {
      "cell_type": "code",
      "source": [
        "!git clone https://github.com/romiebanerjee/laplace.git\n",
        "%cd laplace\n",
        "from kfac.kfac import KFAC\n"
      ],
      "metadata": {
        "colab": {
          "base_uri": "https://localhost:8080/"
        },
        "id": "0hYDA7fhvA1h",
        "outputId": "34d9afb7-334f-4362-f322-eddb38c63cef"
      },
      "id": "0hYDA7fhvA1h",
      "execution_count": 2,
      "outputs": [
        {
          "output_type": "stream",
          "name": "stdout",
          "text": [
            "Cloning into 'laplace'...\n",
            "remote: Enumerating objects: 32, done.\u001b[K\n",
            "remote: Counting objects: 100% (32/32), done.\u001b[K\n",
            "remote: Compressing objects: 100% (26/26), done.\u001b[K\n",
            "remote: Total 32 (delta 6), reused 29 (delta 5), pack-reused 0 (from 0)\u001b[K\n",
            "Receiving objects: 100% (32/32), 312.41 KiB | 1.31 MiB/s, done.\n",
            "Resolving deltas: 100% (6/6), done.\n",
            "/content/laplace\n"
          ]
        }
      ]
    },
    {
      "cell_type": "code",
      "execution_count": 3,
      "id": "0b9b38d3",
      "metadata": {
        "id": "0b9b38d3"
      },
      "outputs": [],
      "source": [
        "#training scripts\n",
        "\n",
        "def train(model, device, train_loader, optimizer, criterion, epoch):\n",
        "    model.train()\n",
        "    progress_bar = tqdm(train_loader, desc=f\"Epoch {epoch}\")\n",
        "\n",
        "    for batch_idx, (data, target) in enumerate(progress_bar):\n",
        "        data, target = data.to(device), target.to(device)\n",
        "        optimizer.zero_grad()\n",
        "        output = model(data)\n",
        "        loss = criterion(output, target)\n",
        "        loss.backward()\n",
        "        optimizer.step()\n",
        "\n",
        "        progress_bar.set_postfix({\"Loss\": f\"{loss.item():.4f}\"})\n",
        "\n",
        "\n",
        "def train_fisher(kfac:KFAC,\n",
        "                fisher_loader: DataLoader,\n",
        "                criterion: torch.nn.modules.loss,\n",
        "                ):\n",
        "    '''Empirical fisher computation by KFAC\n",
        "        Update kfac state dict\n",
        "    '''\n",
        "    for module in kfac.model.modules():\n",
        "        if isinstance(module, nn.BatchNorm2d):\n",
        "            module.eval()  # Use running mean/var instead of batch stats\n",
        "        else:\n",
        "            module.train()\n",
        "\n",
        "    progress_bar = tqdm(fisher_loader, desc=f\"Epoch {epoch}\")\n",
        "\n",
        "    for batch_idx, (data, target) in enumerate(progress_bar):\n",
        "        data, target = data.to(device), target.to(device)\n",
        "        output = kfac.model(data)\n",
        "        loss = criterion(output, target)\n",
        "        loss.backward() #NO OPTIMATION, ONLY CALCULATE GRADIENT\n",
        "        kfac.update_fisher(log = False)\n",
        "        progress_bar.set_postfix({\"Loss\": f\"{loss.item():.4f}\"})\n"
      ]
    },
    {
      "cell_type": "code",
      "execution_count": 4,
      "id": "6d0d5e12",
      "metadata": {
        "colab": {
          "base_uri": "https://localhost:8080/"
        },
        "id": "6d0d5e12",
        "outputId": "4a60f319-d839-4021-ceb0-552294b069dd"
      },
      "outputs": [
        {
          "output_type": "stream",
          "name": "stderr",
          "text": [
            "100%|██████████| 9.91M/9.91M [00:01<00:00, 5.02MB/s]\n",
            "100%|██████████| 28.9k/28.9k [00:00<00:00, 134kB/s]\n",
            "100%|██████████| 1.65M/1.65M [00:01<00:00, 1.28MB/s]\n",
            "100%|██████████| 4.54k/4.54k [00:00<00:00, 9.07MB/s]\n"
          ]
        }
      ],
      "source": [
        "# Define transformations\n",
        "transform = transforms.Compose([\n",
        "    transforms.ToTensor(),  # Convert to tensor (range [0, 1])\n",
        "    transforms.Normalize((0.1307,), (0.3081,))  # Mean and std of MNIST\n",
        "])\n",
        "\n",
        "# Load datasets\n",
        "train_dataset = datasets.MNIST(\n",
        "    root='./data',\n",
        "    train=True,\n",
        "    download=True,\n",
        "    transform=transform\n",
        ")\n",
        "\n",
        "#custom transforms\n",
        "class AddSaltPepperNoise(object):\n",
        "    def __init__(self, prob=0.05):\n",
        "        self.prob = prob  # Probability of noise\n",
        "\n",
        "    def __call__(self, tensor):\n",
        "        noisy_tensor = tensor.clone()\n",
        "        mask = torch.rand(tensor.size()) < self.prob\n",
        "        noisy_tensor[mask] = torch.randint(0, 2, mask.shape).float()[mask]\n",
        "        return noisy_tensor\n",
        "# Define transforms with noise\n",
        "\n",
        "saltpepper_transform = transforms.Compose([\n",
        "    transforms.ToTensor(),\n",
        "    AddSaltPepperNoise(prob=0.1)  # 10% pixels corrupted\n",
        "])\n",
        "\n",
        "test_dataset = datasets.MNIST(\n",
        "    root='./data',\n",
        "    train=False,\n",
        "    download=True,\n",
        "    transform=saltpepper_transform\n",
        ")\n",
        "\n",
        "# Create data loaders\n",
        "train_loader = DataLoader(train_dataset, batch_size=64, shuffle=True)\n",
        "test_loader = DataLoader(test_dataset, batch_size=1, shuffle=True)"
      ]
    },
    {
      "cell_type": "code",
      "execution_count": 5,
      "id": "0b008e4e",
      "metadata": {
        "id": "0b008e4e"
      },
      "outputs": [],
      "source": [
        "from torchvision.models import resnet18\n",
        "\n",
        "model = resnet18(num_classes=10)\n",
        "model.conv1 = nn.Conv2d(1, 64, kernel_size=7, stride=2, padding=3, bias=False)  # Adjust for 1-channel input\n",
        "model = model.to(device)"
      ]
    },
    {
      "cell_type": "markdown",
      "source": [
        "Train model `model`"
      ],
      "metadata": {
        "id": "0qv4IlWDy0j7"
      },
      "id": "0qv4IlWDy0j7"
    },
    {
      "cell_type": "code",
      "execution_count": 6,
      "id": "b190bd1f",
      "metadata": {
        "colab": {
          "base_uri": "https://localhost:8080/"
        },
        "id": "b190bd1f",
        "outputId": "07a2a2eb-a886-427e-a54d-59f51d06595b"
      },
      "outputs": [
        {
          "output_type": "stream",
          "name": "stderr",
          "text": [
            "Epoch 0: 100%|██████████| 938/938 [00:26<00:00, 34.93it/s, Loss=0.1941]\n",
            "Epoch 1: 100%|██████████| 938/938 [00:25<00:00, 37.32it/s, Loss=0.0212]\n",
            "Epoch 2: 100%|██████████| 938/938 [00:25<00:00, 37.38it/s, Loss=0.0131]\n",
            "Epoch 3: 100%|██████████| 938/938 [00:24<00:00, 37.67it/s, Loss=0.0012]\n",
            "Epoch 4: 100%|██████████| 938/938 [00:25<00:00, 37.37it/s, Loss=0.0013]\n"
          ]
        }
      ],
      "source": [
        "criterion = nn.CrossEntropyLoss()\n",
        "optimizer = optim.Adam(model.parameters(), lr=0.001)\n",
        "\n",
        "# Train for 5 epochs\n",
        "for epoch in range(5):\n",
        "    train(model, device, train_loader, optimizer, criterion, epoch)\n"
      ]
    },
    {
      "cell_type": "markdown",
      "source": [
        "Initailize `KFAC` object `mykfac` with input `model`. This the bayesian object around the *trained* model `model`.\n",
        "\n",
        "The BNN `mykfac` has features\n",
        "- `mykac.model` storing the central pre-trained model\n",
        "- `mykfac.fisher` storing posterior information (from Laplace approximation)\n",
        "\n",
        "During the training run `fisher_train` the gradients of the loss function w.r.t the model weights at the trained model prams $\\frac{\\partial L}{\\partial \\theta }|_{\\theta = \\theta*}$ are calculated, stored and empirical covariance calculated. This is done by adding the outer product of the gradient vectors one-at-at-time (hence batch_size = 1) $\\sum_i \\nabla_i * \\nabla_i^T$ going through the training set. NOTE: No optimization is performed, as that would move us away from the trained model. The outer product is not calulated directly, but done layer-wise and using kronecker-factorization. The end result is an attribute `mykfac.fisher` which is `dict` object storing the layer-wise kronecker-factored emiprical fisher matrices.\n",
        "\n",
        "- `mykfac.fisher[layer_name] = (Q,H)`\n",
        "\n",
        "Q and H square matrices such that $Q\\otimes H$ approximate the empirical fisher in layer `layer_name`.\n"
      ],
      "metadata": {
        "id": "WkPm173hy-H5"
      },
      "id": "WkPm173hy-H5"
    },
    {
      "cell_type": "code",
      "execution_count": 7,
      "id": "33bbe49d",
      "metadata": {
        "colab": {
          "base_uri": "https://localhost:8080/"
        },
        "id": "33bbe49d",
        "outputId": "e59628ee-60ed-4d79-a2bb-de8823e426a8",
        "collapsed": true
      },
      "outputs": [
        {
          "output_type": "stream",
          "name": "stderr",
          "text": [
            "\rEpoch 4:   0%|          | 0/60000 [00:00<?, ?it/s]/usr/local/lib/python3.11/dist-packages/torch/nn/modules/module.py:1830: FutureWarning: Using a non-full backward hook when the forward contains multiple autograd Nodes is deprecated and will be removed in future versions. This hook will be missing some grad_input. Please use register_full_backward_hook to get the documented behavior.\n",
            "  self._maybe_warn_non_full_backward_hook(args, result, grad_fn)\n",
            "Epoch 4: 100%|██████████| 60000/60000 [22:41<00:00, 44.07it/s, Loss=0.0002]\n"
          ]
        }
      ],
      "source": [
        "criterion = nn.CrossEntropyLoss()\n",
        "fisher_loader = DataLoader(train_dataset, batch_size=1, shuffle=True)\n",
        "mykfac = KFAC(model, device = device)\n",
        "\n",
        "train_fisher(mykfac, fisher_loader, criterion)"
      ]
    },
    {
      "cell_type": "code",
      "execution_count": 8,
      "metadata": {
        "id": "HWTKQKyIcFPg"
      },
      "outputs": [],
      "source": [
        "# from google.colab import drive\n",
        "# drive.mount('/content/drive', force_remount=True)\n",
        "# fisher = torch.load('/content/drive/MyDrive/models/mnist_resnet18_kfac.pth')\n",
        "# mykfac = KFAC(model, device = device)\n",
        "# mykfac.fisher = fisher"
      ],
      "id": "HWTKQKyIcFPg"
    },
    {
      "cell_type": "markdown",
      "source": [
        "Once the fisher is saved, we have to invert it. Along the way we also compute the eigenvalues, and cholesky decompotion. Everything is done layer-wise and utilizing the (Q,H) factorization.\n",
        "\n",
        "We end up with the following `dict` features of our bayesian NN `mykfac`\n",
        "\n",
        "`mykfac.eigvals(), mykfac.eigvecs(), mykfac.invchol(), mykfac.invfisher()`\n",
        "\n",
        "`mykfac.eigvals[layer_name]` = [eigenvalues of Q, eigenvalues of H]\n",
        "\n",
        "`mykfac.eigvals[layer_name]` = [eigenvectors of Q, eigenvectors of H]\n",
        "\n",
        "`mykfac.invchol[layer_name]` = $[\\text{chol}(Q)^{-1}, \\text{chol}(H)^{-1}]$\n",
        "\n",
        "`mykfac.invfisher[layer_name]` = $[Q^{-1}, H^{-1}]$\n",
        "\n",
        "\n"
      ],
      "metadata": {
        "id": "kY4ov-ZR3UEp"
      },
      "id": "kY4ov-ZR3UEp"
    },
    {
      "cell_type": "code",
      "source": [
        "mykfac.kf_eigens()\n",
        "mykfac.invert_cholesky()\n",
        "mykfac.invert_fisher()"
      ],
      "metadata": {
        "colab": {
          "base_uri": "https://localhost:8080/"
        },
        "id": "v94zInlj-lp_",
        "outputId": "3103ad10-31c1-4869-c67b-abfd2ee29eac",
        "collapsed": true
      },
      "id": "v94zInlj-lp_",
      "execution_count": 9,
      "outputs": [
        {
          "output_type": "stream",
          "name": "stdout",
          "text": [
            "Calculating eigenvalues of the fisher\n"
          ]
        },
        {
          "output_type": "stream",
          "name": "stderr",
          "text": [
            "21it [00:01, 10.62it/s]\n"
          ]
        },
        {
          "output_type": "stream",
          "name": "stdout",
          "text": [
            "Computing inverted Cholesky of fisher ...\n"
          ]
        },
        {
          "output_type": "stream",
          "name": "stderr",
          "text": [
            "15it [00:02,  3.37it/s]"
          ]
        },
        {
          "output_type": "stream",
          "name": "stdout",
          "text": [
            "\n",
            "\n",
            "Error in layer layer3.1.conv2 index :[14/21]\n",
            "linalg.cholesky: The factorization could not be completed because the input is not positive-definite (the leading minor of order 1426 is not positive-definite).\n",
            "\n",
            "\n",
            "Error in layer layer4.0.conv1 index :[15/21]\n",
            "linalg.cholesky: The factorization could not be completed because the input is not positive-definite (the leading minor of order 878 is not positive-definite).\n"
          ]
        },
        {
          "output_type": "stream",
          "name": "stderr",
          "text": [
            "\r17it [00:11,  1.39s/it]"
          ]
        },
        {
          "output_type": "stream",
          "name": "stdout",
          "text": [
            "\n",
            "\n",
            "Error in layer layer4.0.downsample.0 index :[17/21]\n",
            "linalg.cholesky: The factorization could not be completed because the input is not positive-definite (the leading minor of order 217 is not positive-definite).\n"
          ]
        },
        {
          "output_type": "stream",
          "name": "stderr",
          "text": [
            "21it [00:27,  1.30s/it]\n"
          ]
        },
        {
          "output_type": "stream",
          "name": "stdout",
          "text": [
            "\n",
            "\n",
            "Error in layer fc index :[20/21]\n",
            "linalg.cholesky: The factorization could not be completed because the input is not positive-definite (the leading minor of order 10 is not positive-definite).\n",
            "Computing inverse fisher ...\n"
          ]
        },
        {
          "output_type": "stream",
          "name": "stderr",
          "text": [
            "21it [00:00, 13205.45it/s]"
          ]
        },
        {
          "output_type": "stream",
          "name": "stdout",
          "text": [
            "\n",
            "\n",
            "Error in layer layer3.1.conv2 index :[14/21]\n",
            "'NoneType' object has no attribute 't'\n",
            "\n",
            "\n",
            "Error in layer layer4.0.conv1 index :[15/21]\n",
            "'NoneType' object has no attribute 't'\n",
            "\n",
            "\n",
            "Error in layer layer4.0.downsample.0 index :[17/21]\n",
            "'NoneType' object has no attribute 't'\n",
            "\n",
            "\n",
            "Error in layer fc index :[20/21]\n",
            "'NoneType' object has no attribute 't'\n"
          ]
        },
        {
          "output_type": "stream",
          "name": "stderr",
          "text": [
            "\n"
          ]
        }
      ]
    },
    {
      "cell_type": "code",
      "execution_count": 10,
      "id": "095bb63b",
      "metadata": {
        "id": "095bb63b"
      },
      "outputs": [],
      "source": [
        "for module in mykfac.model.modules():\n",
        "    if isinstance(module, nn.BatchNorm2d):\n",
        "        module.eval()  # Use running mean/var instead of batch stats\n",
        "    else:\n",
        "        module.train()"
      ]
    },
    {
      "cell_type": "code",
      "execution_count": 11,
      "id": "158fefd3",
      "metadata": {
        "id": "158fefd3",
        "colab": {
          "base_uri": "https://localhost:8080/",
          "height": 922
        },
        "outputId": "fa009ada-5da1-4d17-d6cc-dafb4dc995fc"
      },
      "outputs": [
        {
          "output_type": "stream",
          "name": "stdout",
          "text": [
            "tensor([[-0.6709,  0.8751, -0.6813, -3.6486, -2.1685, -1.1376, -1.0652, -1.4219,\n",
            "          1.8616, -2.3732]], device='cuda:0', grad_fn=<AddmmBackward0>)\n",
            "predicion = tensor([8])\n"
          ]
        },
        {
          "output_type": "execute_result",
          "data": {
            "text/plain": [
              "<matplotlib.lines.Line2D at 0x7c800c435e90>"
            ]
          },
          "metadata": {},
          "execution_count": 11
        },
        {
          "output_type": "display_data",
          "data": {
            "text/plain": [
              "<Figure size 1000x1000 with 2 Axes>"
            ],
            "image/png": "[encoded data removed]"
          },
          "metadata": {}
        }
      ],
      "source": [
        "#run base model on example (noisy mnist sample)\n",
        "image, label = next(iter(test_loader))\n",
        "image, label = image.to(device), label.to(device)\n",
        "output = mykfac.model(image)\n",
        "print(output)\n",
        "probs = softmax(output, dim=1).cpu().detach().numpy().squeeze()\n",
        "pred = output.argmax(dim=1).cpu()\n",
        "print(f'predicion = {pred}')\n",
        "\n",
        "fig, axes = plt.subplots(2, figsize=(10, 10))\n",
        "axes[0].imshow(image[0].cpu().numpy().squeeze(), cmap = 'gray')\n",
        "axes[1].bar(range(10), probs, color='skyblue')\n",
        "axes[1].set_ylim(0, 1)\n",
        "axes[1].set_title(\"Softmax Probabilities\")\n",
        "axes[1].set_xlabel(\"Digit Class\")\n",
        "axes[1].set_ylabel(\"Probability\")\n",
        "axes[1].axvline(x=pred, color='red', linestyle='--', alpha=0.5)"
      ]
    },
    {
      "cell_type": "code",
      "execution_count": 12,
      "id": "7af38025",
      "metadata": {
        "id": "7af38025",
        "colab": {
          "base_uri": "https://localhost:8080/",
          "height": 501
        },
        "outputId": "e4254c66-866a-4e35-946c-e650e0bc966a"
      },
      "outputs": [
        {
          "output_type": "stream",
          "name": "stderr",
          "text": [
            "100%|██████████| 10/10 [00:00<00:00, 80.27it/s]\n"
          ]
        },
        {
          "output_type": "execute_result",
          "data": {
            "text/plain": [
              "Text(0.5, 0, 'class label')"
            ]
          },
          "metadata": {},
          "execution_count": 12
        },
        {
          "output_type": "display_data",
          "data": {
            "text/plain": [
              "<Figure size 640x480 with 1 Axes>"
            ],
            "image/png": "[encoded data removed]"
          },
          "metadata": {}
        }
      ],
      "source": [
        "#GLM uncertainties\n",
        "\n",
        "import copy\n",
        "\n",
        "n_classes = 10\n",
        "output = mykfac.model(image)\n",
        "\n",
        "gradients = []\n",
        "#compute gradient for every scalar outout (#via one backprop for every dimension in the output logit space)\n",
        "for i in tqdm(range(n_classes)):\n",
        "    out = output[0][i]\n",
        "    mykfac.model.zero_grad()\n",
        "    out.backward(retain_graph=True)\n",
        "    mykfac.update_grad(log = False)\n",
        "    gradients.append(copy.deepcopy(mykfac.grad))\n",
        "\n",
        "\n",
        "output_vars = []\n",
        "for grad in gradients:\n",
        "  output_vars.append(mykfac.kf_inner(grad, grad))\n",
        "plt.plot(output_vars)\n",
        "plt.xlabel(\"class label\")\n"
      ]
    },
    {
      "cell_type": "code",
      "execution_count": 13,
      "id": "aefeae34",
      "metadata": {
        "id": "aefeae34",
        "colab": {
          "base_uri": "https://localhost:8080/",
          "height": 680
        },
        "outputId": "00309834-2e58-4a96-f620-7c4dcc4b9e65"
      },
      "outputs": [
        {
          "output_type": "stream",
          "name": "stderr",
          "text": [
            "100%|██████████| 16/16 [00:00<00:00, 95.44it/s]"
          ]
        },
        {
          "output_type": "stream",
          "name": "stdout",
          "text": [
            "tensor([[1105948.0000],\n",
            "        [-189719.2656],\n",
            "        [ 156133.2969],\n",
            "        [-399343.6250],\n",
            "        [-617217.7500],\n",
            "        [ 317332.3438],\n",
            "        [ 120798.4062],\n",
            "        [-330911.3438],\n",
            "        [-465493.4375],\n",
            "        [-545889.3125]], device='cuda:0', grad_fn=<DiagonalBackward0>)\n"
          ]
        },
        {
          "output_type": "stream",
          "name": "stderr",
          "text": [
            "\n"
          ]
        },
        {
          "output_type": "execute_result",
          "data": {
            "text/plain": [
              "Text(0, 0.5, 'uncertainty')"
            ]
          },
          "metadata": {},
          "execution_count": 13
        },
        {
          "output_type": "display_data",
          "data": {
            "text/plain": [
              "<Figure size 640x480 with 1 Axes>"
            ],
            "image/png": "[encoded data removed]"
          },
          "metadata": {}
        }
      ],
      "source": [
        "#MC-GLM uncertainties\n",
        "\n",
        "output = mykfac.model(image)\n",
        "eps = 1e-6 #for numerical differentiation\n",
        "mc_preds = []\n",
        "iters = 16 #number of monte-carlo samples\n",
        "with torch.no_grad():\n",
        "    for i in tqdm(range(iters)):\n",
        "        mykfac.sample_and_replace(eps = eps)\n",
        "        output_logits_mc = mykfac.model(image)\n",
        "        # print(output_logits_mc)\n",
        "        mc_preds.append(output_logits_mc)\n",
        "\n",
        "mc_output_stacked = torch.stack(mc_preds) # shape: (iters, n_classes)\n",
        "\n",
        "A = (mc_output_stacked - output)/eps\n",
        "\n",
        "B = torch.matmul(A.permute(1,2,0), A.permute(1,0,2)) #shape: (n_classes, n_classes)\n",
        "print(torch.diagonal(B))\n",
        "plt.plot(torch.diagonal(B).cpu().detach().numpy().squeeze())\n",
        "plt.xlabel(\"class label\")\n",
        "plt.ylabel('uncertainty')\n"
      ]
    },
    {
      "cell_type": "code",
      "execution_count": 14,
      "id": "fd09b44d",
      "metadata": {
        "id": "fd09b44d",
        "colab": {
          "base_uri": "https://localhost:8080/",
          "height": 448
        },
        "outputId": "7c22221f-a00f-4c34-eed3-b7fc5d6dbc5f"
      },
      "outputs": [
        {
          "output_type": "execute_result",
          "data": {
            "text/plain": [
              "<matplotlib.image.AxesImage at 0x7c800ea301d0>"
            ]
          },
          "metadata": {},
          "execution_count": 14
        },
        {
          "output_type": "display_data",
          "data": {
            "text/plain": [
              "<Figure size 640x480 with 1 Axes>"
            ],
            "image/png": "[encoded data removed]"
          },
          "metadata": {}
        }
      ],
      "source": [
        "#We can get the full 10 x 10 covariance matrix\n",
        "plt.imshow(B.detach().cpu().numpy().squeeze())"
      ]
    },
    {
      "cell_type": "code",
      "execution_count": 14,
      "id": "fd612f6c",
      "metadata": {
        "id": "fd612f6c"
      },
      "outputs": [],
      "source": []
    }
  ],
  "metadata": {
    "kernelspec": {
      "display_name": "Python 3",
      "name": "python3"
    },
    "language_info": {
      "codemirror_mode": {
        "name": "ipython",
        "version": 3
      },
      "file_extension": ".py",
      "mimetype": "text/x-python",
      "name": "python",
      "nbconvert_exporter": "python",
      "pygments_lexer": "ipython3",
      "version": "3.11.0"
    },
    "colab": {
      "provenance": [],
      "machine_shape": "hm",
      "gpuType": "L4",
      "include_colab_link": true
    },
    "accelerator": "GPU"
  },
  "nbformat": 4,
  "nbformat_minor": 5
}